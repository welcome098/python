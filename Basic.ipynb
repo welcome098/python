{
 "cells": [
  {
   "cell_type": "code",
   "execution_count": null,
   "metadata": {},
   "outputs": [],
   "source": [
    "axaxis= eval(input(\"輸入A點的X座標:\"))\n",
    "ayaxis= eval(input(\"輸入A點的Y座標:\"))\n",
    "bxaxis= eval(input(\"輸入B點的X座標:\"))\n",
    "byaxis= eval(input(\"輸入B點的Y座標:\"))\n",
    "distance= ((axaxis-bxaxis)**2 + (ayaxis-byaxis)**2)**0.5\n",
    "distance= round(distance,4)\n",
    "print(\"A點的座標為({} , {})\".format(axaxis,ayaxis),end=\",\")\n",
    "print(\"B點的座標為({} , {})\".format(bxaxis,byaxis),end=\".\")\n",
    "print(\"兩點的距離為{}\".format(distance))"
   ]
  },
  {
   "cell_type": "code",
   "execution_count": 8,
   "metadata": {},
   "outputs": [
    {
     "name": "stdout",
     "output_type": "stream",
     "text": [
      "請問您的性別是(Male/Female):Female\n",
      "請輸入身高(cm):170\n",
      "請輸入體重(kg):60\n",
      "您的體重為 20.761,剛好\n"
     ]
    }
   ],
   "source": [
    "sex = input(\"請問您的性別是(Male/Female):\")\n",
    "height= eval(input(\"請輸入身高(cm):\"))\n",
    "weight= eval(input(\"請輸入體重(kg):\"))\n",
    "bmi =round(weight/((height/100)**2),3)\n",
    "print(\"您的體重為\",bmi,end=\",\")\n",
    "if sex == 'Male':\n",
    "    if bmi > 25:\n",
    "        print(\"該減肥了\")\n",
    "    elif bmi >= 20:\n",
    "        print(\"剛好\")\n",
    "    else:\n",
    "        print(\"過瘦\")\n",
    "if sex == 'Female': \n",
    "    if bmi > 22:\n",
    "        print(\"該減肥了\")\n",
    "    elif bmi >=18 :\n",
    "        print(\"剛好\")\n",
    "    else:\n",
    "        print(\"過瘦\")"
   ]
  },
  {
   "cell_type": "code",
   "execution_count": 4,
   "metadata": {},
   "outputs": [
    {
     "name": "stdout",
     "output_type": "stream",
     "text": [
      "身高170公分，體重85公斤。相當於BMI29.412.\n"
     ]
    }
   ],
   "source": [
    "print(\"身高{}公分，體重{}公斤。相當於BMI{}.\".format(height,weight,bmi))"
   ]
  },
  {
   "cell_type": "code",
   "execution_count": 5,
   "metadata": {},
   "outputs": [
    {
     "name": "stdin",
     "output_type": "stream",
     "text": [
      "請輸入1~100間的數字: 29\n",
      "請輸入1~28間的數字: 28\n",
      "請輸入1~27間的數字: 2\n",
      "請輸入3~27間的數字: 5\n",
      "請輸入6~27間的數字: 8\n",
      "請輸入9~27間的數字: 16\n",
      "請輸入17~27間的數字: 21\n",
      "請輸入22~27間的數字: 25\n",
      "請輸入22~24間的數字: 22\n",
      "請輸入23~24間的數字: 23\n"
     ]
    },
    {
     "name": "stdout",
     "output_type": "stream",
     "text": [
      "對了，密碼為 23\n"
     ]
    }
   ],
   "source": [
    "import random\n",
    "pwd = random.randint(1,100)\n",
    "maxN = 100\n",
    "minN = 1\n",
    "while True:\n",
    "    guess = int( input(\"請輸入\"+str(minN)+\"~\"+str(maxN)+\"間的數字:\"))\n",
    "    if guess > maxN or guess < minN:\n",
    "        print(\"猜測數字超出範圍，\",end=\"\")\n",
    "        continue\n",
    "    if guess == pwd:\n",
    "        print(\"對了，密碼為\",pwd)\n",
    "        break\n",
    "    if guess < pwd:\n",
    "        minN = guess+1\n",
    "    elif guess > pwd:\n",
    "        maxN = guess-1\n"
   ]
  },
  {
   "cell_type": "code",
   "execution_count": null,
   "metadata": {},
   "outputs": [],
   "source": [
    "%%writefile train.py\n",
    "\n",
    "train_v = 10\n",
    "\n",
    "def train_add(list_n):\n",
    "    train_sum = 0\n",
    "    for i in range(len(list_n)):\n",
    "        train_sum += list_n[i]\n",
    "    return train_sum\n",
    "list_n = [2,3,4,5,6]\n",
    "\n",
    "print(train_add(list_n))"
   ]
  },
  {
   "cell_type": "code",
   "execution_count": null,
   "metadata": {},
   "outputs": [],
   "source": [
    "n = int(input(\"請輸入數字：\"))\n",
    "for i in range(n):\n",
    "    print(\" \"*(n-i) + \"@\"*(i+1))"
   ]
  },
  {
   "cell_type": "code",
   "execution_count": null,
   "metadata": {},
   "outputs": [],
   "source": [
    "n = int(input(\"請輸入數字：\"))\n",
    "for i in range(1,10):\n",
    "    print(\"{} * {} = {}\".format(n,i,n*i))"
   ]
  },
  {
   "cell_type": "code",
   "execution_count": null,
   "metadata": {},
   "outputs": [],
   "source": [
    "for i in range(1,10):\n",
    "    for j in range(2,10):\n",
    "        print(\"{} * {} = {:<2}\".format(j,i,i*j),end=\" \") #{:<2}留下兩個空間 向左靠\n",
    "    print()"
   ]
  },
  {
   "cell_type": "code",
   "execution_count": null,
   "metadata": {},
   "outputs": [],
   "source": [
    "import random\n",
    "pwd = random.randint(0,9) #隨機產生0~9的亂數\n",
    "guess  = int(input(\"請猜測數字(0~9)：\"))\n",
    "while guess != pwd:\n",
    "    guess  = int(input(\"錯了，再猜一次(0~9)：\"))\n",
    "print(\"猜對了，密碼為\",pwd)\n"
   ]
  },
  {
   "cell_type": "code",
   "execution_count": null,
   "metadata": {},
   "outputs": [],
   "source": [
    "while True:\n",
    "    num=random.randint(1,20)\n",
    "    if num == 11:\n",
    "        break\n",
    "    if num%5 == 0:\n",
    "        continue #不執行print 但迴圈繼續\n",
    "    print(num)\n",
    "print(\"亂數抽到11，結束\")\n",
    "        "
   ]
  },
  {
   "cell_type": "code",
   "execution_count": null,
   "metadata": {},
   "outputs": [],
   "source": [
    "print(\"請輸入數字，到9999結束\")\n",
    "count = 1\n",
    "mini= int(input(\"請輸入第\"+str(count)+\"個數字：\"))\n",
    "userInput = mini\n",
    "while userInput != 9999:\n",
    "    if userInput < mini:\n",
    "        mini = userInput\n",
    "    count += 1\n",
    "    userInput = int(input(\"請輸入第\"+str(count)+\"個數字：\"))\n",
    "print (\"最小數值為\",mini)"
   ]
  },
  {
   "cell_type": "code",
   "execution_count": 6,
   "metadata": {},
   "outputs": [
    {
     "name": "stdout",
     "output_type": "stream",
     "text": [
      "請輸入數字，到9999結束\n"
     ]
    },
    {
     "name": "stdin",
     "output_type": "stream",
     "text": [
      "請輸入第1個數字： 555\n"
     ]
    },
    {
     "name": "stdout",
     "output_type": "stream",
     "text": [
      "反轉的數字為 555\n"
     ]
    },
    {
     "name": "stdin",
     "output_type": "stream",
     "text": [
      "請輸入第2個數字： 654165\n"
     ]
    },
    {
     "name": "stdout",
     "output_type": "stream",
     "text": [
      "反轉的數字為 561456\n"
     ]
    },
    {
     "name": "stdin",
     "output_type": "stream",
     "text": [
      "請輸入第3個數字： 9999\n"
     ]
    }
   ],
   "source": [
    "print(\"請輸入數字，到9999結束\")\n",
    "count = 1\n",
    "while True:\n",
    "    num = input(\"請輸入第\"+ str(count)+\"個數字：\")\n",
    "    if num == '9999':\n",
    "        break\n",
    "    result = \"\"\n",
    "    for i in range(len(num)):\n",
    "        result = num[i]+result\n",
    "    print (\"反轉的數字為\",result)\n",
    "    count += 1"
   ]
  },
  {
   "cell_type": "code",
   "execution_count": null,
   "metadata": {},
   "outputs": [],
   "source": []
  },
  {
   "cell_type": "code",
   "execution_count": null,
   "metadata": {},
   "outputs": [],
   "source": []
  },
  {
   "cell_type": "code",
   "execution_count": null,
   "metadata": {},
   "outputs": [],
   "source": []
  },
  {
   "cell_type": "code",
   "execution_count": null,
   "metadata": {},
   "outputs": [],
   "source": []
  }
 ],
 "metadata": {
  "kernelspec": {
   "display_name": "Python 3",
   "language": "python",
   "name": "python3"
  },
  "language_info": {
   "codemirror_mode": {
    "name": "ipython",
    "version": 3
   },
   "file_extension": ".py",
   "mimetype": "text/x-python",
   "name": "python",
   "nbconvert_exporter": "python",
   "pygments_lexer": "ipython3",
   "version": "3.7.3"
  }
 },
 "nbformat": 4,
 "nbformat_minor": 4
}
